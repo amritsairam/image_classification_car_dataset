{
 "cells": [
  {
   "cell_type": "code",
   "execution_count": 10,
   "metadata": {},
   "outputs": [],
   "source": [
    "import PIL\n",
    "from PIL import Image, ImageOps\n",
    "import os\n",
    "\n",
    "output_path = 'datasets/val_resized_224'\n",
    "\n",
    "def resize_with_aspect_ratio(directory, output_size=(224, 224)):\n",
    "    # Iterate over each subdirectory in the main directory\n",
    "    for subdirectory in os.listdir(directory):\n",
    "        current_subdirectory_path = os.path.join(directory, subdirectory)\n",
    "\n",
    "        if not os.path.isdir(current_subdirectory_path):\n",
    "            continue  # Skip if it's not a directory\n",
    "\n",
    "        output_subdirectory_path = os.path.join(output_path, subdirectory)\n",
    "        \n",
    "        # Use makedirs with exist_ok=True to avoid the FileExistsError\n",
    "        os.makedirs(output_subdirectory_path, exist_ok=True)\n",
    "\n",
    "        # Iterate over each image in the subdirectory\n",
    "        for image in os.listdir(current_subdirectory_path):\n",
    "            image_path = os.path.join(current_subdirectory_path, image)\n",
    "            \n",
    "            # Ensure it is a file and not a directory\n",
    "            if not os.path.isfile(image_path):\n",
    "                continue\n",
    "\n",
    "            try:\n",
    "                img = Image.open(image_path)\n",
    "                \n",
    "                # Compute the new size preserving aspect ratio\n",
    "                img.thumbnail(output_size, resample=Image.LANCZOS)\n",
    "                \n",
    "                # Create a new image with a white (or any color) background\n",
    "                new_image = Image.new(\"RGB\", output_size, (255, 255, 255))\n",
    "                \n",
    "                # Compute the coordinates to paste the resized image onto the new image\n",
    "                paste_position = (\n",
    "                    (output_size[0] - img.size[0]) // 2,\n",
    "                    (output_size[1] - img.size[1]) // 2\n",
    "                )\n",
    "                \n",
    "                # Paste the resized image onto the new image\n",
    "                new_image.paste(img, paste_position)\n",
    "                \n",
    "                # Save the new image in the output directory\n",
    "                new_image.save(os.path.join(output_subdirectory_path, image))\n",
    "                \n",
    "            except Exception as e:\n",
    "                print(f\"Error processing {image_path}: {e}\")\n",
    "\n",
    "\n",
    "input_path = 'datasets/val' \n",
    "resize_with_aspect_ratio(input_path)\n"
   ]
  },
  {
   "cell_type": "code",
   "execution_count": 11,
   "metadata": {},
   "outputs": [
    {
     "name": "stdout",
     "output_type": "stream",
     "text": [
      "196\n"
     ]
    }
   ],
   "source": [
    "print(len(os.listdir('datasets/val_resized_224')))"
   ]
  },
  {
   "cell_type": "code",
   "execution_count": null,
   "metadata": {},
   "outputs": [],
   "source": []
  }
 ],
 "metadata": {
  "kernelspec": {
   "display_name": "computer_vision",
   "language": "python",
   "name": "python3"
  },
  "language_info": {
   "codemirror_mode": {
    "name": "ipython",
    "version": 3
   },
   "file_extension": ".py",
   "mimetype": "text/x-python",
   "name": "python",
   "nbconvert_exporter": "python",
   "pygments_lexer": "ipython3",
   "version": "3.12.2"
  }
 },
 "nbformat": 4,
 "nbformat_minor": 2
}
